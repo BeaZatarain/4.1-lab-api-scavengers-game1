{
 "cells": [
  {
   "cell_type": "code",
   "execution_count": 5,
   "metadata": {},
   "outputs": [],
   "source": [
    "import json\n",
    "import requests as req"
   ]
  },
  {
   "cell_type": "markdown",
   "metadata": {},
   "source": [
    "# Challenge 1: Fork Languages\n",
    "\n",
    "You will find out how many programming languages are used among all the forks created from the main lab repo of your bootcamp. Assuming the main lab repo is ironhack-datalabs/datamad1020-rev, you will:\n",
    "\n",
    "1. Obtain the full list of forks created from the main lab repo via Github API.\n",
    "\n",
    "2. Loop the JSON response to find out the language attribute of each fork. Use an array to store the language attributes of each fork.\n",
    "\n",
    "Hint: Each language should appear only once in your array.\n",
    "\n",
    "3. Print the language array. It should be something like:\n",
    "\n",
    "[\"Python\", \"Jupyter Notebook\", \"HTML\"]\n"
   ]
  },
  {
   "cell_type": "code",
   "execution_count": 15,
   "metadata": {},
   "outputs": [],
   "source": [
    "\n",
    "with open('../password.txt', 'r') as pwd:\n",
    "    pass_ = pwd.read()\n",
    "    \n"
   ]
  },
  {
   "cell_type": "code",
   "execution_count": 17,
   "metadata": {},
   "outputs": [],
   "source": [
    "HEADER={'Authorization': 'token ' + 'your token' }"
   ]
  },
  {
   "cell_type": "markdown",
   "metadata": {},
   "source": [
    "**HINT:**: Create a list with every **language_url** you find in every fork "
   ]
  },
  {
   "cell_type": "markdown",
   "metadata": {},
   "source": [
    "⚠️ **Remember to limit your output before submission**."
   ]
  },
  {
   "cell_type": "code",
   "execution_count": 18,
   "metadata": {},
   "outputs": [],
   "source": [
    "url='https://api.github.com/repos/ironhack-datalabs/datamad1020-rev/forks'"
   ]
  },
  {
   "cell_type": "code",
   "execution_count": 29,
   "metadata": {},
   "outputs": [
    {
     "data": {
      "text/plain": [
       "{'id': 424645536,\n",
       " 'node_id': 'R_kgDOGU-ToA',\n",
       " 'name': 'datamad1020-rev',\n",
       " 'full_name': 'silviarico/datamad1020-rev',\n",
       " 'private': False,\n",
       " 'owner': {'login': 'silviarico',\n",
       "  'id': 92275247,\n",
       "  'node_id': 'U_kgDOBYACLw',\n",
       "  'avatar_url': 'https://avatars.githubusercontent.com/u/92275247?v=4',\n",
       "  'gravatar_id': '',\n",
       "  'url': 'https://api.github.com/users/silviarico',\n",
       "  'html_url': 'https://github.com/silviarico',\n",
       "  'followers_url': 'https://api.github.com/users/silviarico/followers',\n",
       "  'following_url': 'https://api.github.com/users/silviarico/following{/other_user}',\n",
       "  'gists_url': 'https://api.github.com/users/silviarico/gists{/gist_id}',\n",
       "  'starred_url': 'https://api.github.com/users/silviarico/starred{/owner}{/repo}',\n",
       "  'subscriptions_url': 'https://api.github.com/users/silviarico/subscriptions',\n",
       "  'organizations_url': 'https://api.github.com/users/silviarico/orgs',\n",
       "  'repos_url': 'https://api.github.com/users/silviarico/repos',\n",
       "  'events_url': 'https://api.github.com/users/silviarico/events{/privacy}',\n",
       "  'received_events_url': 'https://api.github.com/users/silviarico/received_events',\n",
       "  'type': 'User',\n",
       "  'site_admin': False},\n",
       " 'html_url': 'https://github.com/silviarico/datamad1020-rev',\n",
       " 'description': None,\n",
       " 'fork': True,\n",
       " 'url': 'https://api.github.com/repos/silviarico/datamad1020-rev',\n",
       " 'forks_url': 'https://api.github.com/repos/silviarico/datamad1020-rev/forks',\n",
       " 'keys_url': 'https://api.github.com/repos/silviarico/datamad1020-rev/keys{/key_id}',\n",
       " 'collaborators_url': 'https://api.github.com/repos/silviarico/datamad1020-rev/collaborators{/collaborator}',\n",
       " 'teams_url': 'https://api.github.com/repos/silviarico/datamad1020-rev/teams',\n",
       " 'hooks_url': 'https://api.github.com/repos/silviarico/datamad1020-rev/hooks',\n",
       " 'issue_events_url': 'https://api.github.com/repos/silviarico/datamad1020-rev/issues/events{/number}',\n",
       " 'events_url': 'https://api.github.com/repos/silviarico/datamad1020-rev/events',\n",
       " 'assignees_url': 'https://api.github.com/repos/silviarico/datamad1020-rev/assignees{/user}',\n",
       " 'branches_url': 'https://api.github.com/repos/silviarico/datamad1020-rev/branches{/branch}',\n",
       " 'tags_url': 'https://api.github.com/repos/silviarico/datamad1020-rev/tags',\n",
       " 'blobs_url': 'https://api.github.com/repos/silviarico/datamad1020-rev/git/blobs{/sha}',\n",
       " 'git_tags_url': 'https://api.github.com/repos/silviarico/datamad1020-rev/git/tags{/sha}',\n",
       " 'git_refs_url': 'https://api.github.com/repos/silviarico/datamad1020-rev/git/refs{/sha}',\n",
       " 'trees_url': 'https://api.github.com/repos/silviarico/datamad1020-rev/git/trees{/sha}',\n",
       " 'statuses_url': 'https://api.github.com/repos/silviarico/datamad1020-rev/statuses/{sha}',\n",
       " 'languages_url': 'https://api.github.com/repos/silviarico/datamad1020-rev/languages',\n",
       " 'stargazers_url': 'https://api.github.com/repos/silviarico/datamad1020-rev/stargazers',\n",
       " 'contributors_url': 'https://api.github.com/repos/silviarico/datamad1020-rev/contributors',\n",
       " 'subscribers_url': 'https://api.github.com/repos/silviarico/datamad1020-rev/subscribers',\n",
       " 'subscription_url': 'https://api.github.com/repos/silviarico/datamad1020-rev/subscription',\n",
       " 'commits_url': 'https://api.github.com/repos/silviarico/datamad1020-rev/commits{/sha}',\n",
       " 'git_commits_url': 'https://api.github.com/repos/silviarico/datamad1020-rev/git/commits{/sha}',\n",
       " 'comments_url': 'https://api.github.com/repos/silviarico/datamad1020-rev/comments{/number}',\n",
       " 'issue_comment_url': 'https://api.github.com/repos/silviarico/datamad1020-rev/issues/comments{/number}',\n",
       " 'contents_url': 'https://api.github.com/repos/silviarico/datamad1020-rev/contents/{+path}',\n",
       " 'compare_url': 'https://api.github.com/repos/silviarico/datamad1020-rev/compare/{base}...{head}',\n",
       " 'merges_url': 'https://api.github.com/repos/silviarico/datamad1020-rev/merges',\n",
       " 'archive_url': 'https://api.github.com/repos/silviarico/datamad1020-rev/{archive_format}{/ref}',\n",
       " 'downloads_url': 'https://api.github.com/repos/silviarico/datamad1020-rev/downloads',\n",
       " 'issues_url': 'https://api.github.com/repos/silviarico/datamad1020-rev/issues{/number}',\n",
       " 'pulls_url': 'https://api.github.com/repos/silviarico/datamad1020-rev/pulls{/number}',\n",
       " 'milestones_url': 'https://api.github.com/repos/silviarico/datamad1020-rev/milestones{/number}',\n",
       " 'notifications_url': 'https://api.github.com/repos/silviarico/datamad1020-rev/notifications{?since,all,participating}',\n",
       " 'labels_url': 'https://api.github.com/repos/silviarico/datamad1020-rev/labels{/name}',\n",
       " 'releases_url': 'https://api.github.com/repos/silviarico/datamad1020-rev/releases{/id}',\n",
       " 'deployments_url': 'https://api.github.com/repos/silviarico/datamad1020-rev/deployments',\n",
       " 'created_at': '2021-11-04T15:29:31Z',\n",
       " 'updated_at': '2021-11-04T15:29:32Z',\n",
       " 'pushed_at': '2021-08-26T14:17:23Z',\n",
       " 'git_url': 'git://github.com/silviarico/datamad1020-rev.git',\n",
       " 'ssh_url': 'git@github.com:silviarico/datamad1020-rev.git',\n",
       " 'clone_url': 'https://github.com/silviarico/datamad1020-rev.git',\n",
       " 'svn_url': 'https://github.com/silviarico/datamad1020-rev',\n",
       " 'homepage': None,\n",
       " 'size': 164266,\n",
       " 'stargazers_count': 0,\n",
       " 'watchers_count': 0,\n",
       " 'language': None,\n",
       " 'has_issues': False,\n",
       " 'has_projects': True,\n",
       " 'has_downloads': True,\n",
       " 'has_wiki': True,\n",
       " 'has_pages': False,\n",
       " 'has_discussions': False,\n",
       " 'forks_count': 0,\n",
       " 'mirror_url': None,\n",
       " 'archived': False,\n",
       " 'disabled': False,\n",
       " 'open_issues_count': 0,\n",
       " 'license': {'key': 'agpl-3.0',\n",
       "  'name': 'GNU Affero General Public License v3.0',\n",
       "  'spdx_id': 'AGPL-3.0',\n",
       "  'url': 'https://api.github.com/licenses/agpl-3.0',\n",
       "  'node_id': 'MDc6TGljZW5zZTE='},\n",
       " 'allow_forking': True,\n",
       " 'is_template': False,\n",
       " 'web_commit_signoff_required': False,\n",
       " 'topics': [],\n",
       " 'visibility': 'public',\n",
       " 'forks': 0,\n",
       " 'open_issues': 0,\n",
       " 'watchers': 0,\n",
       " 'default_branch': 'master',\n",
       " 'permissions': {'admin': False,\n",
       "  'maintain': False,\n",
       "  'push': False,\n",
       "  'triage': False,\n",
       "  'pull': True}}"
      ]
     },
     "execution_count": 29,
     "metadata": {},
     "output_type": "execute_result"
    }
   ],
   "source": [
    "res_git=req.get(url, headers=HEADER)\n",
    "\n",
    "res_git = res_git.json()\n",
    "\n",
    "res_git[2]"
   ]
  },
  {
   "cell_type": "code",
   "execution_count": 30,
   "metadata": {},
   "outputs": [],
   "source": [
    "url='https://api.github.com/repos/silviarico/datamad1020-rev/languages'"
   ]
  },
  {
   "cell_type": "code",
   "execution_count": 32,
   "metadata": {},
   "outputs": [
    {
     "data": {
      "text/plain": [
       "{'Jupyter Notebook': 767922, 'HTML': 498316, 'Python': 38591}"
      ]
     },
     "execution_count": 32,
     "metadata": {},
     "output_type": "execute_result"
    }
   ],
   "source": [
    "res_git=req.get(url, headers=HEADER)\n",
    "\n",
    "res_git = res_git.json()\n",
    "\n",
    "res_git"
   ]
  },
  {
   "cell_type": "code",
   "execution_count": null,
   "metadata": {},
   "outputs": [],
   "source": []
  }
 ],
 "metadata": {
  "kernelspec": {
   "display_name": "Python 3 (ipykernel)",
   "language": "python",
   "name": "python3"
  },
  "language_info": {
   "codemirror_mode": {
    "name": "ipython",
    "version": 3
   },
   "file_extension": ".py",
   "mimetype": "text/x-python",
   "name": "python",
   "nbconvert_exporter": "python",
   "pygments_lexer": "ipython3",
   "version": "3.9.13"
  },
  "toc": {
   "base_numbering": 1,
   "nav_menu": {},
   "number_sections": true,
   "sideBar": true,
   "skip_h1_title": true,
   "title_cell": "Table of Contents",
   "title_sidebar": "Contents",
   "toc_cell": false,
   "toc_position": {},
   "toc_section_display": true,
   "toc_window_display": false
  }
 },
 "nbformat": 4,
 "nbformat_minor": 2
}
